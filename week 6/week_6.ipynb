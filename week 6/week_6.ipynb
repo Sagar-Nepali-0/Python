{
 "cells": [
  {
   "cell_type": "code",
   "execution_count": 55,
   "metadata": {},
   "outputs": [
    {
     "name": "stdout",
     "output_type": "stream",
     "text": [
      "Hello\n"
     ]
    }
   ],
   "source": [
    "print(\"Hello\")"
   ]
  },
  {
   "cell_type": "code",
   "execution_count": 56,
   "metadata": {},
   "outputs": [],
   "source": [
    "myfile = open('original.txt')"
   ]
  },
  {
   "cell_type": "code",
   "execution_count": 57,
   "metadata": {},
   "outputs": [
    {
     "name": "stdout",
     "output_type": "stream",
     "text": [
      "<_io.TextIOWrapper name='original.txt' mode='r' encoding='cp1252'>\n"
     ]
    }
   ],
   "source": [
    "print(myfile)"
   ]
  },
  {
   "cell_type": "code",
   "execution_count": 58,
   "metadata": {},
   "outputs": [],
   "source": [
    "my_file = open('original.txt')"
   ]
  },
  {
   "cell_type": "code",
   "execution_count": 59,
   "metadata": {},
   "outputs": [
    {
     "data": {
      "text/plain": [
       "'hi, my name sagar\\nhello, my name batman\\nbye, my name pikachu\\nwow, my name superman'"
      ]
     },
     "execution_count": 59,
     "metadata": {},
     "output_type": "execute_result"
    }
   ],
   "source": [
    "my_file.read()"
   ]
  },
  {
   "cell_type": "code",
   "execution_count": 60,
   "metadata": {},
   "outputs": [
    {
     "data": {
      "text/plain": [
       "7"
      ]
     },
     "execution_count": 60,
     "metadata": {},
     "output_type": "execute_result"
    }
   ],
   "source": [
    "my_file.seek(7)\n"
   ]
  },
  {
   "cell_type": "code",
   "execution_count": 61,
   "metadata": {},
   "outputs": [
    {
     "data": {
      "text/plain": [
       "'name sagar\\nhello, my name batman\\nbye, my name pikachu\\nwow, my name superman'"
      ]
     },
     "execution_count": 61,
     "metadata": {},
     "output_type": "execute_result"
    }
   ],
   "source": [
    "my_file.read()"
   ]
  },
  {
   "cell_type": "code",
   "execution_count": 62,
   "metadata": {},
   "outputs": [
    {
     "data": {
      "text/plain": [
       "'hi'"
      ]
     },
     "execution_count": 62,
     "metadata": {},
     "output_type": "execute_result"
    }
   ],
   "source": [
    "my_file.seek(0)\n",
    "my_file.readline(2)"
   ]
  },
  {
   "cell_type": "code",
   "execution_count": 63,
   "metadata": {},
   "outputs": [],
   "source": [
    "my_file.close()"
   ]
  },
  {
   "cell_type": "code",
   "execution_count": 64,
   "metadata": {},
   "outputs": [
    {
     "name": "stdout",
     "output_type": "stream",
     "text": [
      "wow, my name superman\n"
     ]
    }
   ],
   "source": [
    "with open(\"original.txt\", \"r\") as f:\n",
    "    list_of_lines = f.readlines()\n",
    "    print(list_of_lines[3])\n",
    "    f.close()"
   ]
  },
  {
   "cell_type": "markdown",
   "metadata": {},
   "source": [
    "## Writing to a File"
   ]
  },
  {
   "cell_type": "code",
   "execution_count": 65,
   "metadata": {},
   "outputs": [],
   "source": [
    "my_file = open('test.txt', 'w+')"
   ]
  },
  {
   "cell_type": "code",
   "execution_count": 66,
   "metadata": {},
   "outputs": [
    {
     "data": {
      "text/plain": [
       "22"
      ]
     },
     "execution_count": 66,
     "metadata": {},
     "output_type": "execute_result"
    }
   ],
   "source": [
    "my_file.write(\"Welcome to the System.\")"
   ]
  },
  {
   "cell_type": "code",
   "execution_count": 67,
   "metadata": {},
   "outputs": [
    {
     "data": {
      "text/plain": [
       "'Welcome to the System.'"
      ]
     },
     "execution_count": 67,
     "metadata": {},
     "output_type": "execute_result"
    }
   ],
   "source": [
    "my_file.seek(0)\n",
    "my_file.read()"
   ]
  },
  {
   "cell_type": "code",
   "execution_count": 68,
   "metadata": {},
   "outputs": [],
   "source": [
    "my_file.close()"
   ]
  },
  {
   "cell_type": "code",
   "execution_count": 69,
   "metadata": {},
   "outputs": [],
   "source": [
    "with open(\"test.txt\", \"+w\") as f_new:\n",
    "    f_new.write(\"\\nHello, World\")\n",
    "    f_new.close()"
   ]
  },
  {
   "cell_type": "code",
   "execution_count": 70,
   "metadata": {},
   "outputs": [],
   "source": [
    "with open(\"test.txt\", \"a+\") as f_new:\n",
    "    f_new.write(\"\\nHi, World\")\n",
    "    f_new.close()"
   ]
  },
  {
   "cell_type": "markdown",
   "metadata": {},
   "source": [
    "## Appending to a File"
   ]
  },
  {
   "cell_type": "code",
   "execution_count": 71,
   "metadata": {},
   "outputs": [
    {
     "data": {
      "text/plain": [
       "23"
      ]
     },
     "execution_count": 71,
     "metadata": {},
     "output_type": "execute_result"
    }
   ],
   "source": [
    "my_file = open('test.txt','a+')\n",
    "my_file.write('\\nThis is text being appended to test.txt')\n",
    "my_file.write('\\nAnd another line here.')"
   ]
  },
  {
   "cell_type": "code",
   "execution_count": 72,
   "metadata": {},
   "outputs": [
    {
     "name": "stdout",
     "output_type": "stream",
     "text": [
      "\n",
      "Hello, World\n",
      "Hi, World\n",
      "This is text being appended to test.txt\n",
      "And another line here.\n"
     ]
    }
   ],
   "source": [
    "my_file.seek(0)\n",
    "print(my_file.read())\n",
    "my_file.close()"
   ]
  },
  {
   "cell_type": "markdown",
   "metadata": {},
   "source": [
    "## Appending with %%writefile"
   ]
  },
  {
   "cell_type": "code",
   "execution_count": 73,
   "metadata": {},
   "outputs": [
    {
     "name": "stdout",
     "output_type": "stream",
     "text": [
      "Appending to test.txt\n"
     ]
    }
   ],
   "source": [
    "%%writefile -a test.txt\n",
    "\n",
    "This is text being appended to test.txt\n",
    "And another line here."
   ]
  },
  {
   "cell_type": "code",
   "execution_count": 74,
   "metadata": {},
   "outputs": [
    {
     "name": "stdout",
     "output_type": "stream",
     "text": [
      "Overwriting test.txt\n"
     ]
    }
   ],
   "source": [
    "%%writefile test.txt\n",
    "First Line\n",
    "Second Line"
   ]
  },
  {
   "cell_type": "code",
   "execution_count": 75,
   "metadata": {},
   "outputs": [
    {
     "name": "stdout",
     "output_type": "stream",
     "text": [
      "First Line\n",
      "\n",
      "Second Line\n",
      "\n"
     ]
    }
   ],
   "source": [
    "for line in open('test.txt'):\n",
    "    print(line)"
   ]
  },
  {
   "cell_type": "code",
   "execution_count": 76,
   "metadata": {},
   "outputs": [
    {
     "name": "stdout",
     "output_type": "stream",
     "text": [
      "First Line\n",
      "\n",
      "Second Line\n",
      "\n"
     ]
    }
   ],
   "source": [
    "# Pertaining to the first point above\n",
    "for asdf in open('test.txt'):\n",
    "    print(asdf)"
   ]
  },
  {
   "cell_type": "code",
   "execution_count": 77,
   "metadata": {},
   "outputs": [
    {
     "name": "stdout",
     "output_type": "stream",
     "text": [
      "First Line\n",
      "Second Line\n",
      "\n"
     ]
    }
   ],
   "source": [
    "#context managers\n",
    "with open('test.txt', \"r\") as f:\n",
    "    lines = f.read()\n",
    "    print(lines)"
   ]
  },
  {
   "cell_type": "markdown",
   "metadata": {},
   "source": [
    "# Errors and Exceptions"
   ]
  },
  {
   "cell_type": "code",
   "execution_count": 78,
   "metadata": {},
   "outputs": [],
   "source": [
    "# print(\"Hello\" World\")"
   ]
  },
  {
   "cell_type": "code",
   "execution_count": 79,
   "metadata": {},
   "outputs": [
    {
     "data": {
      "text/plain": [
       "-1"
      ]
     },
     "execution_count": 79,
     "metadata": {},
     "output_type": "execute_result"
    }
   ],
   "source": [
    "def mysum(x,y):\n",
    "    return x - y\n",
    "mysum(3,4)"
   ]
  },
  {
   "cell_type": "code",
   "execution_count": 80,
   "metadata": {},
   "outputs": [],
   "source": [
    "def my_division(a,b):\n",
    "    return a/b"
   ]
  },
  {
   "cell_type": "code",
   "execution_count": 81,
   "metadata": {},
   "outputs": [],
   "source": [
    "x = 5\n",
    "y = 1"
   ]
  },
  {
   "cell_type": "code",
   "execution_count": 82,
   "metadata": {},
   "outputs": [
    {
     "name": "stdout",
     "output_type": "stream",
     "text": [
      "Division output is:  5.0\n",
      "Proceeding to next steps ...\n"
     ]
    }
   ],
   "source": [
    "print(\"Division output is: \", my_division(x,y))\n",
    "print(\"Proceeding to next steps ...\")\n",
    "numeric = input(\"Please Enter a number: \")"
   ]
  },
  {
   "cell_type": "code",
   "execution_count": 83,
   "metadata": {},
   "outputs": [],
   "source": [
    "p = 5\n",
    "q = 1 # q = 0"
   ]
  },
  {
   "cell_type": "code",
   "execution_count": 84,
   "metadata": {},
   "outputs": [
    {
     "name": "stdout",
     "output_type": "stream",
     "text": [
      "Division output is:  5.0\n",
      "Proceeding to next steps ...\n"
     ]
    }
   ],
   "source": [
    "print(\"Division output is: \", my_division(p,q))\n",
    "print(\"Proceeding to next steps ...\")\n",
    "numeric = input(\"Please Enter a number: \")"
   ]
  },
  {
   "cell_type": "code",
   "execution_count": 85,
   "metadata": {},
   "outputs": [
    {
     "name": "stdout",
     "output_type": "stream",
     "text": [
      "Division output is:  5.0\n",
      "Proceeding to next steps ...\n",
      "Processing the number you just input!\n"
     ]
    }
   ],
   "source": [
    "try:\n",
    "    print(\"Division output is: \", my_division(x,y))\n",
    "except:\n",
    "    print(\"You divided by zero, which is not allowed in my math!\")\n",
    "print(\"Proceeding to next steps ...\")\n",
    "numeric = float(input(\"Please Enter a number: \"))\n",
    "print(\"Processing the number you just input!\")"
   ]
  },
  {
   "cell_type": "code",
   "execution_count": 86,
   "metadata": {},
   "outputs": [
    {
     "name": "stdout",
     "output_type": "stream",
     "text": [
      "Division output is:  5.0\n",
      "Proceeding to next steps ...\n",
      "Processing the number you just input!\n"
     ]
    }
   ],
   "source": [
    "try:\n",
    "    print(\"Division output is: \", my_division(p,q))\n",
    "except Exception:\n",
    "    print(\"You divided by zero, which is not allowed in my math!\")\n",
    "print(\"Proceeding to next steps ...\")\n",
    "numeric = float(input(\"Please Enter a number: \"))\n",
    "print(\"Processing the number you just input!\")"
   ]
  },
  {
   "cell_type": "code",
   "execution_count": 87,
   "metadata": {},
   "outputs": [
    {
     "name": "stdout",
     "output_type": "stream",
     "text": [
      "Division output is:  5.0\n",
      "Proceeding to next steps ...\n"
     ]
    }
   ],
   "source": [
    "try:\n",
    "    print(\"Division output is: \", my_division(p,q))\n",
    "except Exception as e:\n",
    "    print(\"Problem in the code: \", e)\n",
    "print(\"Proceeding to next steps ...\")\n",
    "numeric = input(\"Please Enter a number: \")"
   ]
  },
  {
   "cell_type": "markdown",
   "metadata": {},
   "source": [
    "## Case A"
   ]
  },
  {
   "cell_type": "code",
   "execution_count": 88,
   "metadata": {},
   "outputs": [
    {
     "name": "stdout",
     "output_type": "stream",
     "text": [
      "File opened!\n",
      "do something\n",
      "File closed!\n"
     ]
    }
   ],
   "source": [
    "try:\n",
    "    print(\"File opened!\")\n",
    "    print(\"do something\")\n",
    "    my_division(x,y)\n",
    "    print(\"File closed!\")\n",
    "except Exception as e:\n",
    "    print(\"Something went wrong: \", e)\n",
    "    print(\"File closed through except block!\")"
   ]
  },
  {
   "cell_type": "code",
   "execution_count": 89,
   "metadata": {},
   "outputs": [
    {
     "name": "stdout",
     "output_type": "stream",
     "text": [
      "File opened!\n",
      "do something\n",
      "File closed!\n"
     ]
    }
   ],
   "source": [
    "try:\n",
    "    print(\"File opened!\")\n",
    "    print(\"do something\")\n",
    "    my_division(p,q)\n",
    "    print(\"File closed!\")\n",
    "except Exception as e:\n",
    "    print(\"Something went wrong: \", e)\n",
    "    print(\"File closed through except block!\")"
   ]
  },
  {
   "cell_type": "code",
   "execution_count": 90,
   "metadata": {},
   "outputs": [
    {
     "name": "stdout",
     "output_type": "stream",
     "text": [
      "File opened!\n",
      "do something\n",
      "File closed at last!\n"
     ]
    }
   ],
   "source": [
    "try:\n",
    "    print(\"File opened!\")\n",
    "    print(\"do something\")\n",
    "    my_division(1,2)\n",
    "    numeric = int(input(\"Please Enter a number: \"))\n",
    "except Exception as e:\n",
    "    print(\"Something went wrong: \", e)\n",
    "finally:\n",
    "    print(\"File closed at last!\")"
   ]
  },
  {
   "cell_type": "code",
   "execution_count": 91,
   "metadata": {},
   "outputs": [
    {
     "name": "stdout",
     "output_type": "stream",
     "text": [
      "File opened!\n",
      "do something\n",
      "Something went wrong:  division by zero\n",
      "File closed at last!\n"
     ]
    }
   ],
   "source": [
    "try:\n",
    "    print(\"File opened!\")\n",
    "    print(\"do something\")\n",
    "    my_division(1,0)\n",
    "except Exception as e:\n",
    "    print(\"Something went wrong: \", e)\n",
    "finally:\n",
    "    print(\"File closed at last!\")"
   ]
  },
  {
   "cell_type": "code",
   "execution_count": 92,
   "metadata": {},
   "outputs": [
    {
     "name": "stdout",
     "output_type": "stream",
     "text": [
      "File opened!\n",
      "do something\n",
      "File closed at last!\n"
     ]
    }
   ],
   "source": [
    "try:\n",
    "    print(\"File opened!\")\n",
    "    print(\"do something\")\n",
    "    my_division(x,y)\n",
    "    numeric = int(input(\"Please Enter a number: \"))\n",
    "except ZeroDivisionError as e:\n",
    "    print(\"Something went wrong: \", e)\n",
    "finally:\n",
    "    print(\"File closed at last!\")"
   ]
  },
  {
   "cell_type": "code",
   "execution_count": 93,
   "metadata": {},
   "outputs": [
    {
     "name": "stdout",
     "output_type": "stream",
     "text": [
      "File opened!\n",
      "do something\n",
      "File closed at last!\n"
     ]
    }
   ],
   "source": [
    "try:\n",
    "    print(\"File opened!\")\n",
    "    print(\"do something\")\n",
    "    my_division(x,y)\n",
    "    numeric = int(input(\"Please Enter a number: \"))\n",
    "except ZeroDivisionError as e:\n",
    "    print(\"Something went wrong: \", e)\n",
    "except ValueError as e:\n",
    "    print(\"Something went wrong: \", e)\n",
    "finally:\n",
    "    print(\"File closed at last!\")"
   ]
  },
  {
   "cell_type": "code",
   "execution_count": 94,
   "metadata": {},
   "outputs": [
    {
     "name": "stdout",
     "output_type": "stream",
     "text": [
      "File opened!\n",
      "do something\n",
      "File closed at last!\n"
     ]
    }
   ],
   "source": [
    "try:\n",
    "    print(\"File opened!\")\n",
    "    print(\"do something\")\n",
    "    my_division(1,5)\n",
    "    numeric = int(input(\"Please Enter a number: \"))\n",
    "except ZeroDivisionError as e:\n",
    "    print(\"Something went wrong: \",e)\n",
    "except ValueError as e:\n",
    "    print(\"Something went wrong: \",e)\n",
    "except Exception as e:\n",
    "    print(\"Something went wrong: \",e)\n",
    "finally:\n",
    "    print(\"File closed at last!\")"
   ]
  },
  {
   "cell_type": "code",
   "execution_count": 95,
   "metadata": {},
   "outputs": [
    {
     "name": "stdout",
     "output_type": "stream",
     "text": [
      "File opened!\n",
      "do something\n",
      "Everything went fine!\n",
      "File closed at last!\n"
     ]
    }
   ],
   "source": [
    "try:\n",
    "    print(\"File opened!\")\n",
    "    print(\"do something\")\n",
    "    my_division(1,5)\n",
    "    numeric = int(input(\"Please Enter a number: \"))\n",
    "except ZeroDivisionError as e:\n",
    "    print(\"Something went wrong: \",e)\n",
    "except ValueError as e:\n",
    "    print(\"Something went wrong: \",e)\n",
    "except Exception as e:\n",
    "    print(\"Something went wrong: \",e)\n",
    "else:\n",
    "    print(\"Everything went fine!\")\n",
    "finally:\n",
    "    print(\"File closed at last!\")"
   ]
  }
 ],
 "metadata": {
  "kernelspec": {
   "display_name": "Python 3",
   "language": "python",
   "name": "python3"
  },
  "language_info": {
   "codemirror_mode": {
    "name": "ipython",
    "version": 3
   },
   "file_extension": ".py",
   "mimetype": "text/x-python",
   "name": "python",
   "nbconvert_exporter": "python",
   "pygments_lexer": "ipython3",
   "version": "3.13.2"
  }
 },
 "nbformat": 4,
 "nbformat_minor": 2
}
