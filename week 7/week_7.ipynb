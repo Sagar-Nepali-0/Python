{
 "cells": [
  {
   "cell_type": "markdown",
   "metadata": {},
   "source": [
    "# PSP"
   ]
  },
  {
   "cell_type": "markdown",
   "metadata": {},
   "source": [
    "## WEEK 7: Object Oriented Programming "
   ]
  },
  {
   "cell_type": "markdown",
   "metadata": {},
   "source": [
    "### Methods (functions) in a Class:"
   ]
  },
  {
   "cell_type": "code",
   "execution_count": 1,
   "metadata": {},
   "outputs": [],
   "source": [
    "\n",
    "class Laptop:\n",
    "    def specifications(self):\n",
    "        return \"i5, 16 GB, 1TB\"\n",
    "\n",
    "    def operating_system(self):\n",
    "        return \"Windows 11\"\n",
    "\n"
   ]
  },
  {
   "cell_type": "code",
   "execution_count": 2,
   "metadata": {},
   "outputs": [],
   "source": [
    "my_laptop = Laptop()\n"
   ]
  },
  {
   "cell_type": "code",
   "execution_count": 3,
   "metadata": {},
   "outputs": [
    {
     "name": "stdout",
     "output_type": "stream",
     "text": [
      "i5, 16 GB, 1TB\n"
     ]
    }
   ],
   "source": [
    "print(my_laptop.specifications())"
   ]
  },
  {
   "cell_type": "code",
   "execution_count": 4,
   "metadata": {},
   "outputs": [
    {
     "name": "stdout",
     "output_type": "stream",
     "text": [
      "i5, 16 GB, 1TB\n"
     ]
    }
   ],
   "source": [
    "your_laptop = Laptop()\n",
    "print(your_laptop.specifications())"
   ]
  },
  {
   "cell_type": "code",
   "execution_count": 5,
   "metadata": {},
   "outputs": [],
   "source": [
    "class ComputerLab:\n",
    "    def apple(self):\n",
    "        return \"i5, 16 GB, 1TB\"\n",
    "\n",
    "    def dell(self):\n",
    "        return \"i7, 32 GB, 500GB\"\n",
    "\n"
   ]
  },
  {
   "cell_type": "code",
   "execution_count": 6,
   "metadata": {},
   "outputs": [
    {
     "name": "stdout",
     "output_type": "stream",
     "text": [
      "i5, 16 GB, 1TB\n"
     ]
    }
   ],
   "source": [
    "# Approach 1\n",
    "C1 = ComputerLab() \n",
    "print(C1.apple())"
   ]
  },
  {
   "cell_type": "code",
   "execution_count": 7,
   "metadata": {},
   "outputs": [
    {
     "name": "stdout",
     "output_type": "stream",
     "text": [
      "i5, 16 GB, 1TB\n"
     ]
    }
   ],
   "source": [
    "# Approach 2\n",
    "print(ComputerLab.apple(C1))"
   ]
  },
  {
   "cell_type": "markdown",
   "metadata": {},
   "source": [
    "### Create a class calculator, and create two methods inside it, sum and product\n"
   ]
  },
  {
   "cell_type": "code",
   "execution_count": 8,
   "metadata": {},
   "outputs": [],
   "source": [
    "\n",
    "class Calculator:\n",
    "    def mysum(self, a, b):\n",
    "        return a + b\n",
    "\n",
    "    def product(self, a, b):\n",
    "        return a * b\n",
    "\n",
    "my_object = Calculator()\n",
    "\n"
   ]
  },
  {
   "cell_type": "code",
   "execution_count": 9,
   "metadata": {},
   "outputs": [
    {
     "name": "stdout",
     "output_type": "stream",
     "text": [
      "5\n"
     ]
    }
   ],
   "source": [
    "print(my_object.mysum(2, 3))\n"
   ]
  },
  {
   "cell_type": "code",
   "execution_count": 10,
   "metadata": {},
   "outputs": [
    {
     "name": "stdout",
     "output_type": "stream",
     "text": [
      "6\n"
     ]
    }
   ],
   "source": [
    "print(my_object.product(2, 3))"
   ]
  },
  {
   "cell_type": "markdown",
   "metadata": {},
   "source": [
    "### Can you figure out what could be done to make the above implementation slightly better?"
   ]
  },
  {
   "cell_type": "code",
   "execution_count": 11,
   "metadata": {},
   "outputs": [
    {
     "name": "stdout",
     "output_type": "stream",
     "text": [
      "2298171915104\n",
      "2298169961808\n",
      "False\n"
     ]
    }
   ],
   "source": [
    "\n",
    "class Computer:\n",
    "    pass\n",
    "\n",
    "c1 = Computer()  # Computer() is a constructor\n",
    "c2 = Computer()\n",
    "\n",
    "print(id(c1))  # Address of the memory where object is located\n",
    "print(id(c2))\n",
    "print(c1 is c2)\n"
   ]
  },
  {
   "cell_type": "markdown",
   "metadata": {},
   "source": [
    "### The __init__ method"
   ]
  },
  {
   "cell_type": "code",
   "execution_count": 12,
   "metadata": {},
   "outputs": [
    {
     "name": "stdout",
     "output_type": "stream",
     "text": [
      "This is called automatically!\n"
     ]
    }
   ],
   "source": [
    "\n",
    "class PC:\n",
    "    def __init__(self):\n",
    "        print(\"This is called automatically!\")\n",
    "\n",
    "    def config(self):\n",
    "        print(\"i5, 16 GB, 1TB\")\n",
    "\n",
    "mycomputer = PC()\n"
   ]
  },
  {
   "cell_type": "code",
   "execution_count": 13,
   "metadata": {},
   "outputs": [
    {
     "name": "stdout",
     "output_type": "stream",
     "text": [
      "onfig is: 16GB, 17\n"
     ]
    }
   ],
   "source": [
    "class PC:\n",
    "    def __init__(self,c, r):\n",
    "        self.c = c\n",
    "        self.r = r\n",
    "\n",
    "    def config(self):\n",
    "        print(f\"onfig is: {self.r}, {self.c}\")\n",
    "\n",
    "mycomputer = PC('17','16GB')\n",
    "mycomputer.config()"
   ]
  },
  {
   "cell_type": "code",
   "execution_count": 14,
   "metadata": {},
   "outputs": [
    {
     "name": "stdout",
     "output_type": "stream",
     "text": [
      "This is a constructor, and is called automatically!\n",
      "This is product function!\n"
     ]
    },
    {
     "data": {
      "text/plain": [
       "-1"
      ]
     },
     "execution_count": 14,
     "metadata": {},
     "output_type": "execute_result"
    }
   ],
   "source": [
    "class Calculator:\n",
    "    def __init__(self,a , b):\n",
    "        self.a = a\n",
    "        self.b = b\n",
    "        print(\"This is a constructor, and is called automatically!\")\n",
    "\n",
    "    def my_sum(self):\n",
    "        print(\"This is sum function!\")\n",
    "        my_sum = self.a + self.b\n",
    "        return my_sum\n",
    "    \n",
    "    def my_product(self):\n",
    "        print(\"This is product function!\")\n",
    "        my_product = self.a - self.b\n",
    "        return my_product\n",
    "    \n",
    "my_obj = Calculator(3,4)\n",
    "my_obj.my_product()"
   ]
  },
  {
   "cell_type": "markdown",
   "metadata": {},
   "source": [
    "## Attributes (variables) in a Class:"
   ]
  },
  {
   "cell_type": "code",
   "execution_count": 15,
   "metadata": {},
   "outputs": [],
   "source": [
    "class Computer:\n",
    "    def __init__(self):\n",
    "        self.name = \"David\"\n",
    "        self.age = 28\n",
    "\n",
    "    def update(self):\n",
    "        self.age = self.age + 1\n",
    "\n",
    "    def equal(self, other):\n",
    "        if self.age == other.age:\n",
    "            return True\n",
    "        else:\n",
    "            return False\n"
   ]
  },
  {
   "cell_type": "code",
   "execution_count": 16,
   "metadata": {},
   "outputs": [],
   "source": [
    "comp1 = Computer()\n",
    "comp2 = Computer()"
   ]
  },
  {
   "cell_type": "code",
   "execution_count": 17,
   "metadata": {},
   "outputs": [
    {
     "name": "stdout",
     "output_type": "stream",
     "text": [
      "28\n"
     ]
    }
   ],
   "source": [
    "print(comp1.age)"
   ]
  },
  {
   "cell_type": "code",
   "execution_count": 18,
   "metadata": {},
   "outputs": [],
   "source": [
    "comp1.update()"
   ]
  },
  {
   "cell_type": "code",
   "execution_count": 19,
   "metadata": {},
   "outputs": [
    {
     "name": "stdout",
     "output_type": "stream",
     "text": [
      "29\n",
      "28\n"
     ]
    }
   ],
   "source": [
    "print(comp1.age)\n",
    "print(comp2.age)"
   ]
  },
  {
   "cell_type": "markdown",
   "metadata": {},
   "source": [
    "Types of variables in a Python Class:"
   ]
  },
  {
   "cell_type": "markdown",
   "metadata": {},
   "source": [
    "### Instance variable\n",
    "### Class"
   ]
  },
  {
   "cell_type": "code",
   "execution_count": 20,
   "metadata": {},
   "outputs": [
    {
     "name": "stdout",
     "output_type": "stream",
     "text": [
      "Ford 10\n",
      "Ford 10\n",
      "Daihatsu 7\n",
      "Ford 10\n"
     ]
    }
   ],
   "source": [
    "\n",
    "class Car:\n",
    "    def __init__(self):\n",
    "        self.mileage = 10  # instance variables\n",
    "        self.company = \"Ford\"\n",
    "\n",
    "mycar = Car()\n",
    "yourcar = Car()\n",
    "\n",
    "print(mycar.company, mycar.mileage)\n",
    "print(yourcar.company, yourcar.mileage)\n",
    "\n",
    "mycar.mileage = 7\n",
    "mycar.company = \"Daihatsu\"\n",
    "\n",
    "print(mycar.company, mycar.mileage)\n",
    "print(yourcar.company, yourcar.mileage)\n"
   ]
  },
  {
   "cell_type": "code",
   "execution_count": 21,
   "metadata": {},
   "outputs": [
    {
     "name": "stdout",
     "output_type": "stream",
     "text": [
      "disesel\n",
      "disesel\n",
      "disesel\n"
     ]
    }
   ],
   "source": [
    "class Car:\n",
    "    fuel = 'disesel'\n",
    "\n",
    "    def __init__(self):\n",
    "        self.mileage = 10\n",
    "        self.company = \"Ford\"\n",
    "\n",
    "car1 = Car()\n",
    "car2 = Car()\n",
    "car3 = Car()\n",
    "\n",
    "print(car1.fuel)\n",
    "print(car2.fuel)\n",
    "print(car3.fuel)"
   ]
  },
  {
   "cell_type": "code",
   "execution_count": 22,
   "metadata": {},
   "outputs": [
    {
     "name": "stdout",
     "output_type": "stream",
     "text": [
      "7\n"
     ]
    }
   ],
   "source": [
    "car1.mileage = 7\n",
    "print(car1.mileage)"
   ]
  },
  {
   "cell_type": "code",
   "execution_count": 23,
   "metadata": {},
   "outputs": [
    {
     "data": {
      "text/plain": [
       "10"
      ]
     },
     "execution_count": 23,
     "metadata": {},
     "output_type": "execute_result"
    }
   ],
   "source": [
    "car2.mileage"
   ]
  },
  {
   "cell_type": "code",
   "execution_count": 24,
   "metadata": {},
   "outputs": [
    {
     "name": "stdout",
     "output_type": "stream",
     "text": [
      "electric\n",
      "electric\n",
      "electric\n"
     ]
    }
   ],
   "source": [
    "Car.fuel = 'electric'\n",
    "\n",
    "print(car1.fuel)\n",
    "print(car2.fuel)\n",
    "print(car3.fuel)"
   ]
  },
  {
   "cell_type": "code",
   "execution_count": 25,
   "metadata": {},
   "outputs": [
    {
     "name": "stdout",
     "output_type": "stream",
     "text": [
      "petrol\n",
      "petrol\n",
      "petrol\n"
     ]
    }
   ],
   "source": [
    "Car.fuel = 'petrol'\n",
    "\n",
    "print(car1.fuel)\n",
    "print(car2.fuel)\n",
    "print(car3.fuel)"
   ]
  },
  {
   "cell_type": "code",
   "execution_count": 26,
   "metadata": {},
   "outputs": [
    {
     "name": "stdout",
     "output_type": "stream",
     "text": [
      "Hello, Welcome to BBA at The British Collage!\n",
      "Hello, Welcome to BScIT at The British Collage!\n",
      "Hello, Welcome to ACCA at The British Collage!\n"
     ]
    },
    {
     "data": {
      "text/plain": [
       "24.666666666666668"
      ]
     },
     "execution_count": 26,
     "metadata": {},
     "output_type": "execute_result"
    }
   ],
   "source": [
    "# class TBC 104\n",
    "class TBC:\n",
    "\n",
    "    address = \"Thapathali, KTM\"\n",
    "    contact = 98980009807\n",
    "    principle = \"Mr XYZ\"\n",
    "\n",
    "    def __init__(self, program_name, program_duration, degree_awarded):\n",
    "        self.program_name = program_name\n",
    "        self.program_duration = program_duration\n",
    "        self.degree_awarded = degree_awarded\n",
    "        print(f\"Hello, Welcome to {self.program_name} at The British Collage!\")\n",
    "    \n",
    "    def compute_avg_marks(self, m_list):\n",
    "        '''Computer the average marks. Usage: Yesari use garne ho yo!'''\n",
    "        s = 0\n",
    "        for i in m_list:\n",
    "            s = s + i\n",
    "        avg = s / len(m_list)\n",
    "        return avg\n",
    "    \n",
    "bba  = TBC(\"BBA\", \"4 years\", \"B.Com\")\n",
    "bsc  = TBC(\"BScIT\", \"4 years\", \"B.Sc\")\n",
    "acca  = TBC(\"ACCA\", \"2 years\", \"Diplom\")\n",
    "TBC.address = \"Chakupat\", \"KTM\"\n",
    "bsc.compute_avg_marks([22, 25, 27])\n",
    "\n",
    "    \n"
   ]
  },
  {
   "cell_type": "code",
   "execution_count": 27,
   "metadata": {},
   "outputs": [],
   "source": [
    "\n",
    "class Student:\n",
    "    _college = \"TBC\"\n",
    "\n",
    "    def __init__(self, marks1, marks2, marks3):\n",
    "        self.marks1 = marks1\n",
    "        self.marks2 = marks2\n",
    "        self.marks3 = marks3\n",
    "\n",
    "    def average(self):\n",
    "        return (self.marks1 + self.marks2 + self.marks3) / 3\n",
    "\n",
    "    def get_marks(self):\n",
    "        return self.marks1, self.marks2, self.marks3\n",
    "\n",
    "    def set_marks1(self, value):\n",
    "        try:\n",
    "            self.marks1 = float(value)\n",
    "        except:\n",
    "            print(\"Unknown value, could not set!\")\n",
    "\n",
    "studentA = Student(83, 92, 74)\n",
    "studentB = Student(65, 56, 47)\n"
   ]
  },
  {
   "cell_type": "code",
   "execution_count": 28,
   "metadata": {},
   "outputs": [
    {
     "name": "stdout",
     "output_type": "stream",
     "text": [
      "['__class__', '__delattr__', '__dict__', '__dir__', '__doc__', '__eq__', '__firstlineno__', '__format__', '__ge__', '__getattribute__', '__getstate__', '__gt__', '__hash__', '__init__', '__init_subclass__', '__le__', '__lt__', '__module__', '__ne__', '__new__', '__reduce__', '__reduce_ex__', '__repr__', '__setattr__', '__sizeof__', '__static_attributes__', '__str__', '__subclasshook__', '__weakref__', '_college', 'average', 'get_marks', 'marks1', 'marks2', 'marks3', 'set_marks1']\n"
     ]
    }
   ],
   "source": [
    "print(dir(studentA))"
   ]
  },
  {
   "cell_type": "code",
   "execution_count": 29,
   "metadata": {},
   "outputs": [
    {
     "name": "stdout",
     "output_type": "stream",
     "text": [
      "83.0\n",
      "56.0\n"
     ]
    }
   ],
   "source": [
    "print(studentA.average())\n",
    "print(studentB.average())"
   ]
  },
  {
   "cell_type": "code",
   "execution_count": 30,
   "metadata": {},
   "outputs": [
    {
     "data": {
      "text/plain": [
       "83"
      ]
     },
     "execution_count": 30,
     "metadata": {},
     "output_type": "execute_result"
    }
   ],
   "source": [
    "studentA.marks1"
   ]
  },
  {
   "cell_type": "code",
   "execution_count": 31,
   "metadata": {},
   "outputs": [
    {
     "data": {
      "text/plain": [
       "'ninety'"
      ]
     },
     "execution_count": 31,
     "metadata": {},
     "output_type": "execute_result"
    }
   ],
   "source": [
    "studentA.marks1 = 'ninety'\n",
    "studentA.marks1"
   ]
  },
  {
   "cell_type": "code",
   "execution_count": 32,
   "metadata": {},
   "outputs": [],
   "source": [
    "# studentA.average()"
   ]
  },
  {
   "cell_type": "code",
   "execution_count": 33,
   "metadata": {},
   "outputs": [],
   "source": [
    "studentA.set_marks1(90)"
   ]
  },
  {
   "cell_type": "code",
   "execution_count": 34,
   "metadata": {},
   "outputs": [
    {
     "data": {
      "text/plain": [
       "90.0"
      ]
     },
     "execution_count": 34,
     "metadata": {},
     "output_type": "execute_result"
    }
   ],
   "source": [
    "studentA.marks1"
   ]
  },
  {
   "cell_type": "code",
   "execution_count": 35,
   "metadata": {},
   "outputs": [
    {
     "data": {
      "text/plain": [
       "(90.0, 92, 74)"
      ]
     },
     "execution_count": 35,
     "metadata": {},
     "output_type": "execute_result"
    }
   ],
   "source": [
    "studentA.get_marks()"
   ]
  },
  {
   "cell_type": "code",
   "execution_count": 36,
   "metadata": {},
   "outputs": [
    {
     "data": {
      "text/plain": [
       "90.0"
      ]
     },
     "execution_count": 36,
     "metadata": {},
     "output_type": "execute_result"
    }
   ],
   "source": [
    "studentA.marks1"
   ]
  },
  {
   "cell_type": "code",
   "execution_count": 37,
   "metadata": {},
   "outputs": [
    {
     "data": {
      "text/plain": [
       "85.33333333333333"
      ]
     },
     "execution_count": 37,
     "metadata": {},
     "output_type": "execute_result"
    }
   ],
   "source": [
    "studentA.average()"
   ]
  },
  {
   "cell_type": "code",
   "execution_count": 38,
   "metadata": {},
   "outputs": [],
   "source": [
    "# class Student - Inner class\n",
    "\n",
    "class Student:\n",
    "    def __init__(self, name, roll_no):\n",
    "        self.name = name\n",
    "        self.roll_no = roll_no\n",
    "        self.notebook = self.Laptop()\n",
    "\n",
    "    def show(self):\n",
    "        print(self.name, self.roll_no)\n",
    "\n",
    "    class Laptop:\n",
    "        def __init__(self):\n",
    "            self.brand = \"Dell\"\n",
    "            self.cpu = \"core i7\"\n",
    "            self.ram = \"8 GB\"\n",
    "        \n",
    "        def show(self):\n",
    "            print(self.brand, self.cpu, self.ram)\n",
    "    \n",
    "s1 = Student('Andy', 1)\n",
    "s2 = Student('Ana', 2)\n"
   ]
  },
  {
   "cell_type": "code",
   "execution_count": 39,
   "metadata": {},
   "outputs": [
    {
     "data": {
      "text/plain": [
       "'Dell'"
      ]
     },
     "execution_count": 39,
     "metadata": {},
     "output_type": "execute_result"
    }
   ],
   "source": [
    "s1.notebook.brand"
   ]
  },
  {
   "cell_type": "code",
   "execution_count": 40,
   "metadata": {},
   "outputs": [
    {
     "name": "stdout",
     "output_type": "stream",
     "text": [
      "Dell core i7 8 GB\n"
     ]
    }
   ],
   "source": [
    "test = Student(\"ABC\", 3).Laptop()\n",
    "test.show()\n"
   ]
  },
  {
   "cell_type": "code",
   "execution_count": 41,
   "metadata": {},
   "outputs": [
    {
     "name": "stdout",
     "output_type": "stream",
     "text": [
      "Andy\n",
      "1\n",
      "<__main__.Student.Laptop object at 0x0000021715CF17F0>\n"
     ]
    }
   ],
   "source": [
    "print(s1.name)\n",
    "print(s1.roll_no)\n",
    "print(s1.notebook)"
   ]
  },
  {
   "cell_type": "code",
   "execution_count": 42,
   "metadata": {},
   "outputs": [
    {
     "data": {
      "text/plain": [
       "'core i7'"
      ]
     },
     "execution_count": 42,
     "metadata": {},
     "output_type": "execute_result"
    }
   ],
   "source": [
    "s1.notebook.cpu\n"
   ]
  },
  {
   "cell_type": "code",
   "execution_count": 43,
   "metadata": {},
   "outputs": [],
   "source": [
    "mypc = s1.notebook\n",
    "yourpc = s2.notebook"
   ]
  },
  {
   "cell_type": "code",
   "execution_count": 44,
   "metadata": {},
   "outputs": [],
   "source": [
    "mypc.ram = '16 GB'\n"
   ]
  },
  {
   "cell_type": "code",
   "execution_count": 45,
   "metadata": {},
   "outputs": [
    {
     "data": {
      "text/plain": [
       "'16 GB'"
      ]
     },
     "execution_count": 45,
     "metadata": {},
     "output_type": "execute_result"
    }
   ],
   "source": [
    "mypc.ram"
   ]
  },
  {
   "cell_type": "code",
   "execution_count": 46,
   "metadata": {},
   "outputs": [],
   "source": [
    "s1.notebook.ram = \"4GB\""
   ]
  },
  {
   "cell_type": "code",
   "execution_count": 47,
   "metadata": {},
   "outputs": [
    {
     "data": {
      "text/plain": [
       "'8 GB'"
      ]
     },
     "execution_count": 47,
     "metadata": {},
     "output_type": "execute_result"
    }
   ],
   "source": [
    "yourpc.ram"
   ]
  },
  {
   "cell_type": "code",
   "execution_count": 48,
   "metadata": {},
   "outputs": [
    {
     "name": "stdout",
     "output_type": "stream",
     "text": [
      "Andy 1\n"
     ]
    }
   ],
   "source": [
    "s1.show()"
   ]
  },
  {
   "cell_type": "code",
   "execution_count": 49,
   "metadata": {},
   "outputs": [
    {
     "name": "stdout",
     "output_type": "stream",
     "text": [
      "Dell core i7 4GB\n"
     ]
    }
   ],
   "source": [
    "s1.notebook.show()"
   ]
  },
  {
   "cell_type": "code",
   "execution_count": 50,
   "metadata": {},
   "outputs": [],
   "source": [
    "\n",
    "class A:\n",
    "    def feature_one(self):\n",
    "        print(\"Long Nose\")\n",
    "\n",
    "    def feature_two(self):\n",
    "        print(\"Brown Hair\")\n",
    "\n",
    "\n",
    "class B:\n",
    "    def feature_three(self):\n",
    "        print(\"Pale Skin\")\n",
    "\n",
    "    def feature_four(self):\n",
    "        print(\"Small Ears\")\n",
    "\n"
   ]
  },
  {
   "cell_type": "code",
   "execution_count": 51,
   "metadata": {},
   "outputs": [],
   "source": [
    "\n",
    "class C(A, B):\n",
    "    attrA = 1\n",
    "\n",
    "    def feature_five(self):\n",
    "        print(\"Round Eyes\")\n",
    "\n",
    "\n",
    "\n"
   ]
  },
  {
   "cell_type": "code",
   "execution_count": 52,
   "metadata": {},
   "outputs": [],
   "source": [
    "parentB = B()"
   ]
  },
  {
   "cell_type": "code",
   "execution_count": 53,
   "metadata": {},
   "outputs": [
    {
     "name": "stdout",
     "output_type": "stream",
     "text": [
      "Small Ears\n"
     ]
    }
   ],
   "source": [
    "parentB.feature_four()"
   ]
  },
  {
   "cell_type": "code",
   "execution_count": 54,
   "metadata": {},
   "outputs": [],
   "source": [
    "child = C()\n"
   ]
  },
  {
   "cell_type": "code",
   "execution_count": 55,
   "metadata": {},
   "outputs": [
    {
     "name": "stdout",
     "output_type": "stream",
     "text": [
      "Long Nose\n"
     ]
    }
   ],
   "source": [
    "child.feature_one()"
   ]
  },
  {
   "cell_type": "code",
   "execution_count": 56,
   "metadata": {},
   "outputs": [
    {
     "name": "stdout",
     "output_type": "stream",
     "text": [
      "Round Eyes\n"
     ]
    }
   ],
   "source": [
    "\n",
    "class D(C):\n",
    "    def feature_six(self):\n",
    "        print(\"Long Hands\")\n",
    "\n",
    "grandchild = D()\n",
    "grandchild.feature_five()\n"
   ]
  },
  {
   "cell_type": "code",
   "execution_count": 57,
   "metadata": {},
   "outputs": [],
   "source": [
    "#  class A - Constructor in Inheritance\n",
    "\n",
    "class A:\n",
    "    def __init__(self):\n",
    "        print(\"Initialization of class A\")\n",
    "\n",
    "    def feature_one(self):\n",
    "        print(\"Long Nose\")\n",
    "\n",
    "    def feature_two(self):\n",
    "        print(\"Brown Hair\")\n",
    "\n",
    "\n",
    "class B(A):\n",
    "    def feature_three(self):\n",
    "        print(\"Pale Skin\")\n",
    "\n",
    "    def feature_four(self):\n",
    "        print(\"Small Ears\")\n"
   ]
  },
  {
   "cell_type": "code",
   "execution_count": 58,
   "metadata": {},
   "outputs": [
    {
     "name": "stdout",
     "output_type": "stream",
     "text": [
      "Initialization of class A\n"
     ]
    }
   ],
   "source": [
    "a1 = A()"
   ]
  },
  {
   "cell_type": "code",
   "execution_count": 59,
   "metadata": {},
   "outputs": [
    {
     "name": "stdout",
     "output_type": "stream",
     "text": [
      "Initialization of class A\n"
     ]
    }
   ],
   "source": [
    "b1 = B()"
   ]
  },
  {
   "cell_type": "code",
   "execution_count": 60,
   "metadata": {},
   "outputs": [],
   "source": [
    "class A:\n",
    "    def __init__(self):\n",
    "        print(\"Initialization of class A\")\n",
    "\n",
    "    def feature_one(self):\n",
    "        print(\"Long Nose\")\n",
    "\n",
    "    def feature_two(self):\n",
    "        print(\"Brown Hair\")\n",
    "\n",
    "\n",
    "class B(A):\n",
    "    def __init__(self):\n",
    "        print(\"Initialization of class B\")\n",
    "\n",
    "    def feature_three(self):\n",
    "        print(\"Pale Skin\")\n",
    "\n",
    "    def feature_four(self):\n",
    "        print(\"Small Ears\")"
   ]
  },
  {
   "cell_type": "code",
   "execution_count": 61,
   "metadata": {},
   "outputs": [
    {
     "name": "stdout",
     "output_type": "stream",
     "text": [
      "Initialization of class B\n"
     ]
    }
   ],
   "source": [
    "b1 = B()"
   ]
  },
  {
   "cell_type": "code",
   "execution_count": 62,
   "metadata": {},
   "outputs": [],
   "source": [
    "class A:\n",
    "    def __init__(self):\n",
    "        print(\"Initialization of class A\")\n",
    "\n",
    "    def feature_one(self):\n",
    "        print(\"Long Nose\")\n",
    "\n",
    "    def feature_two(self):\n",
    "        print(\"Brown Hair\")\n",
    "\n",
    "\n",
    "class B(A):\n",
    "    def __init__(self):\n",
    "        print(\"Initialization of class B\")\n",
    "\n",
    "    def feature_three(self):\n",
    "        print(\"Pale Skin\")\n",
    "\n",
    "    def feature_four(self):\n",
    "        print(\"Small Ears\")"
   ]
  },
  {
   "cell_type": "code",
   "execution_count": 63,
   "metadata": {},
   "outputs": [
    {
     "name": "stdout",
     "output_type": "stream",
     "text": [
      "Initialization of class B\n"
     ]
    }
   ],
   "source": [
    "b1 = B()"
   ]
  },
  {
   "cell_type": "code",
   "execution_count": 64,
   "metadata": {},
   "outputs": [],
   "source": [
    "class A:\n",
    "    def __init__(self):\n",
    "        print(\"Initialization of class A\")\n",
    "\n",
    "    def feature_one(self):\n",
    "        print(\"Long Nose\")\n",
    "\n",
    "    def feature_two(self):\n",
    "        print(\"Brown Hair\")\n",
    "\n",
    "\n",
    "class B:\n",
    "    def __init__(self):\n",
    "        print(\"Initialization of class B\")\n",
    "\n",
    "    def feature_three(self):\n",
    "        print(\"Pale Skin\")\n",
    "\n",
    "    def feature_four(self):\n",
    "        print(\"Small Ears\")"
   ]
  },
  {
   "cell_type": "code",
   "execution_count": 65,
   "metadata": {},
   "outputs": [],
   "source": [
    "class c(A,B):\n",
    "    def __init__(self):\n",
    "        A.__init__(self)\n",
    "        B.__init__(self)\n",
    "        print(\"Initialization of class C\")\n",
    "\n",
    "    def feature_all(self):\n",
    "        print(\"Good Human Being\")\n",
    "\n",
    "    def call_feature(self):\n",
    "        super().feature_one()\n",
    "\n"
   ]
  },
  {
   "cell_type": "code",
   "execution_count": 66,
   "metadata": {},
   "outputs": [],
   "source": [
    "c1 = C()"
   ]
  },
  {
   "cell_type": "code",
   "execution_count": 67,
   "metadata": {},
   "outputs": [],
   "source": [
    "# c1.call_feature()"
   ]
  },
  {
   "cell_type": "code",
   "execution_count": 68,
   "metadata": {},
   "outputs": [
    {
     "name": "stdout",
     "output_type": "stream",
     "text": [
      "Compiling ...\n",
      "Running ...\n",
      "Spell check\n",
      "Auto-indent\n",
      "Compiling ...\n",
      "Running ...\n"
     ]
    }
   ],
   "source": [
    "\n",
    "class PyCharm:\n",
    "    def execute(self):\n",
    "        print(\"Compiling ...\")\n",
    "        print(\"Running ...\")\n",
    "\n",
    "\n",
    "class VSCode:\n",
    "    def execute(self):\n",
    "        print(\"Spell check\")\n",
    "        print(\"Auto-indent\")\n",
    "        print(\"Compiling ...\")\n",
    "        print(\"Running ...\")\n",
    "\n",
    "\n",
    "class Laptop:\n",
    "    def code(self, IDE):\n",
    "        IDE.execute()\n",
    "\n",
    "\n",
    "myIDE = PyCharm()\n",
    "mylaptop = Laptop()\n",
    "mylaptop.code(myIDE)\n",
    "\n",
    "yourIDE = VSCode()\n",
    "yourlaptop = Laptop()\n",
    "yourlaptop.code(yourIDE)\n"
   ]
  },
  {
   "cell_type": "code",
   "execution_count": 69,
   "metadata": {},
   "outputs": [
    {
     "name": "stdout",
     "output_type": "stream",
     "text": [
      "9\n",
      "<class 'int'>\n",
      "<class 'int'>\n"
     ]
    }
   ],
   "source": [
    "# operator overloading\n",
    "x = 5\n",
    "y = 4\n",
    "print(x+y)\n",
    "print(type(x))\n",
    "print(type(y))"
   ]
  },
  {
   "cell_type": "code",
   "execution_count": 70,
   "metadata": {},
   "outputs": [
    {
     "data": {
      "text/plain": [
       "9"
      ]
     },
     "execution_count": 70,
     "metadata": {},
     "output_type": "execute_result"
    }
   ],
   "source": [
    "x = 5\n",
    "y = 4\n",
    "int.__add__(x,y)"
   ]
  },
  {
   "cell_type": "code",
   "execution_count": 71,
   "metadata": {},
   "outputs": [
    {
     "data": {
      "text/plain": [
       "'Abcdef'"
      ]
     },
     "execution_count": 71,
     "metadata": {},
     "output_type": "execute_result"
    }
   ],
   "source": [
    "a = \"Abc\"\n",
    "b = \"def\"\n",
    "str.__add__(a,b)"
   ]
  },
  {
   "cell_type": "code",
   "execution_count": 72,
   "metadata": {},
   "outputs": [
    {
     "data": {
      "text/plain": [
       "'Abcdef'"
      ]
     },
     "execution_count": 72,
     "metadata": {},
     "output_type": "execute_result"
    }
   ],
   "source": [
    "a + b"
   ]
  },
  {
   "cell_type": "code",
   "execution_count": 73,
   "metadata": {},
   "outputs": [],
   "source": [
    "# a = 5\n",
    "# b = \"Hello!\"\n",
    "# print(a + b)"
   ]
  },
  {
   "cell_type": "code",
   "execution_count": 74,
   "metadata": {},
   "outputs": [],
   "source": [
    "a = 5\n",
    "b = 4"
   ]
  },
  {
   "cell_type": "code",
   "execution_count": 75,
   "metadata": {},
   "outputs": [
    {
     "name": "stdout",
     "output_type": "stream",
     "text": [
      "9\n"
     ]
    }
   ],
   "source": [
    "print(a+b)"
   ]
  },
  {
   "cell_type": "code",
   "execution_count": 76,
   "metadata": {},
   "outputs": [
    {
     "name": "stdout",
     "output_type": "stream",
     "text": [
      "9\n"
     ]
    }
   ],
   "source": [
    "print(int.__add__(a,b))"
   ]
  },
  {
   "cell_type": "code",
   "execution_count": 77,
   "metadata": {},
   "outputs": [],
   "source": [
    "a = \"5\"\n",
    "b = \"4\""
   ]
  },
  {
   "cell_type": "code",
   "execution_count": 78,
   "metadata": {},
   "outputs": [
    {
     "name": "stdout",
     "output_type": "stream",
     "text": [
      "54\n"
     ]
    }
   ],
   "source": [
    "print(a+b)"
   ]
  },
  {
   "cell_type": "code",
   "execution_count": 79,
   "metadata": {},
   "outputs": [
    {
     "name": "stdout",
     "output_type": "stream",
     "text": [
      "54\n"
     ]
    }
   ],
   "source": [
    "print(str.__add__(a,b))"
   ]
  },
  {
   "cell_type": "code",
   "execution_count": 80,
   "metadata": {},
   "outputs": [],
   "source": [
    "\n",
    "class Student:\n",
    "    def __init__(self, marks1, marks2):\n",
    "        self.marks1 = marks1\n",
    "        self.marks2 = marks2\n",
    "\n",
    "\n",
    "s1 = Student(72, 77)\n",
    "s2 = Student(81, 67)\n"
   ]
  },
  {
   "cell_type": "code",
   "execution_count": 81,
   "metadata": {},
   "outputs": [],
   "source": [
    "# s3 = s1 + s2"
   ]
  },
  {
   "cell_type": "code",
   "execution_count": 82,
   "metadata": {},
   "outputs": [
    {
     "name": "stdout",
     "output_type": "stream",
     "text": [
      "153\n",
      "144\n"
     ]
    }
   ],
   "source": [
    "\n",
    "class Student:\n",
    "    def __init__(self, marks1, marks2):\n",
    "        self.marks1 = marks1\n",
    "        self.marks2 = marks2\n",
    "\n",
    "    def __add__(self, other):\n",
    "        marks1 = self.marks1 + other.marks1\n",
    "        marks2 = self.marks2 + other.marks2\n",
    "        return Student(marks1, marks2)\n",
    "\n",
    "s1 = Student(72, 77)\n",
    "s2 = Student(81, 67)\n",
    "s3 = s1 + s2\n",
    "\n",
    "print(s3.marks1)\n",
    "print(s3.marks2)\n"
   ]
  },
  {
   "cell_type": "code",
   "execution_count": null,
   "metadata": {},
   "outputs": [],
   "source": []
  },
  {
   "cell_type": "code",
   "execution_count": 83,
   "metadata": {},
   "outputs": [],
   "source": [
    "# if s1 > s2:\n",
    "#     print(\"Student_1 is selected!\")\n",
    "# else:\n",
    "#     print(\"Student_2 is selected!\")"
   ]
  },
  {
   "cell_type": "code",
   "execution_count": 84,
   "metadata": {},
   "outputs": [],
   "source": [
    "\n",
    "class Student:\n",
    "    def __init__(self, marks1, marks2):\n",
    "        self.marks1 = marks1\n",
    "        self.marks2 = marks2\n",
    "\n",
    "    def __add__(self, other):\n",
    "        marks1 = self.marks1 + other.marks1\n",
    "        marks2 = self.marks2 + other.marks2\n",
    "        return Student(marks1, marks2)\n",
    "    \n",
    "    def __gt__(self, other):\n",
    "        r1 = self.marks1 + self.marks2\n",
    "        r2 = other.marks1 + other.marks2\n",
    "        if r1 > r2:\n",
    "            return True\n",
    "        else:\n",
    "            return False\n",
    "\n",
    "\n",
    "\n",
    "\n",
    "\n"
   ]
  },
  {
   "cell_type": "code",
   "execution_count": 85,
   "metadata": {},
   "outputs": [],
   "source": [
    "s1 = Student(72, 77)\n",
    "s2 = Student(81, 67)"
   ]
  },
  {
   "cell_type": "code",
   "execution_count": 86,
   "metadata": {},
   "outputs": [
    {
     "name": "stdout",
     "output_type": "stream",
     "text": [
      "Student_1 is selected!\n"
     ]
    }
   ],
   "source": [
    "if s1 > s2:\n",
    "    print(\"Student_1 is selected!\")\n",
    "else:\n",
    "    print(\"Student_2 is selected!\")"
   ]
  },
  {
   "cell_type": "code",
   "execution_count": 87,
   "metadata": {},
   "outputs": [],
   "source": [
    "# def average(a, b)\n",
    "# def average(a, b, c)"
   ]
  },
  {
   "cell_type": "code",
   "execution_count": 88,
   "metadata": {},
   "outputs": [
    {
     "name": "stdout",
     "output_type": "stream",
     "text": [
      "12\n"
     ]
    }
   ],
   "source": [
    "class Student:\n",
    "    def __init__(self, m1, m2):\n",
    "        self.m1 = m1\n",
    "        self.m2 = m2\n",
    "\n",
    "    def sum(self, a, b):\n",
    "        return a + b\n",
    "    \n",
    "s1 = Student(50, 69)\n",
    "print(s1.sum(5,7))"
   ]
  },
  {
   "cell_type": "code",
   "execution_count": 89,
   "metadata": {},
   "outputs": [],
   "source": [
    "# print(s1.sum(5,7,4))"
   ]
  },
  {
   "cell_type": "code",
   "execution_count": 90,
   "metadata": {},
   "outputs": [
    {
     "name": "stdout",
     "output_type": "stream",
     "text": [
      "12\n",
      "12\n",
      "5\n",
      "Yo module ko naam chai falano ho!\n"
     ]
    }
   ],
   "source": [
    "class Student:\n",
    "\n",
    "    def sum(self, a = None, b = None, c = None):\n",
    "        if a != None and b != None and c != None:\n",
    "            return a + b\n",
    "        elif a != None and b != None:\n",
    "            return a + b\n",
    "        else:\n",
    "            return a\n",
    "    \n",
    "    def __str__(self):\n",
    "        print(\"Yo module ko naam chai falano ho!\")\n",
    "\n",
    "s1 = Student()\n",
    "print(s1.sum(5, 7, 4))\n",
    "print(s1.sum(5,7))\n",
    "print(s1.sum(5))\n",
    "s1.__str__()"
   ]
  },
  {
   "cell_type": "markdown",
   "metadata": {},
   "source": [
    "## Method Overriding:"
   ]
  },
  {
   "cell_type": "code",
   "execution_count": 91,
   "metadata": {},
   "outputs": [
    {
     "name": "stdout",
     "output_type": "stream",
     "text": [
      "Showing A!\n"
     ]
    }
   ],
   "source": [
    "\n",
    "class A:\n",
    "    def show(self):\n",
    "        print(\"Showing A!\")\n",
    "\n",
    "\n",
    "class B:\n",
    "    pass\n",
    "\n",
    "a = A()\n",
    "a.show()\n"
   ]
  },
  {
   "cell_type": "code",
   "execution_count": 92,
   "metadata": {},
   "outputs": [
    {
     "name": "stdout",
     "output_type": "stream",
     "text": [
      "Showing A!\n"
     ]
    }
   ],
   "source": [
    "class A:\n",
    "    def show(self):\n",
    "        print(\"Showing A!\")\n",
    "\n",
    "\n",
    "class B(A):\n",
    "    pass\n",
    "\n",
    "b = B()\n",
    "b.show()"
   ]
  },
  {
   "cell_type": "code",
   "execution_count": 93,
   "metadata": {},
   "outputs": [
    {
     "name": "stdout",
     "output_type": "stream",
     "text": [
      "Showing A!\n"
     ]
    }
   ],
   "source": [
    "class B(A):\n",
    "    pass\n",
    "\n",
    "b = B()\n",
    "b.show()\n"
   ]
  },
  {
   "cell_type": "code",
   "execution_count": 94,
   "metadata": {},
   "outputs": [
    {
     "name": "stdout",
     "output_type": "stream",
     "text": [
      "Showing B!\n"
     ]
    }
   ],
   "source": [
    "class B:\n",
    "    \n",
    "    def show(self):\n",
    "        print(\"Showing B!\")\n",
    "\n",
    "b = B()\n",
    "b.show()"
   ]
  }
 ],
 "metadata": {
  "kernelspec": {
   "display_name": "Python 3",
   "language": "python",
   "name": "python3"
  },
  "language_info": {
   "codemirror_mode": {
    "name": "ipython",
    "version": 3
   },
   "file_extension": ".py",
   "mimetype": "text/x-python",
   "name": "python",
   "nbconvert_exporter": "python",
   "pygments_lexer": "ipython3",
   "version": "3.13.2"
  }
 },
 "nbformat": 4,
 "nbformat_minor": 2
}
